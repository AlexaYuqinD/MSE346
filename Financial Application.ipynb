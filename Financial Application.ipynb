{
 "cells": [
  {
   "cell_type": "code",
   "execution_count": 38,
   "metadata": {},
   "outputs": [],
   "source": [
    "from scipy.stats import norm\n",
    "import numpy as np\n",
    "from typing import Mapping, Tuple\n",
    "from numpy.polynomial.laguerre import lagval\n",
    "from scipy.integrate import trapz\n",
    "from scipy.interpolate import splrep, BSpline"
   ]
  },
  {
   "cell_type": "markdown",
   "metadata": {},
   "source": [
    "### Implement standard binary tree/grid-based numerical algorithm for American Option Pricing and ensure it validates against Black-Scholes formula for Europeans"
   ]
  },
  {
   "cell_type": "code",
   "execution_count": 39,
   "metadata": {},
   "outputs": [],
   "source": [
    "class BinaryTreeAmerican:  \n",
    "    '''\n",
    "    standard binary tree numerical algorithm for American Option Pricing \n",
    "    '''\n",
    "    def __init__(self, typ: str, spot: float, strike: float, T: int, t: int, r: float, sigma: float):\n",
    "        self.call = True if typ == 'call' else False\n",
    "        self.spot = spot\n",
    "        self.strike = strike\n",
    "        self.t = t\n",
    "        self.T = T # expiration\n",
    "        self.r = r # interest rate\n",
    "        self.sigma = sigma\n",
    "        self.value = self.get_value()     \n",
    "        \n",
    "    def get_value(self):        \n",
    "        u = np.exp(self.sigma * np.sqrt(self.t / self.T))\n",
    "        d = np.exp(-self.sigma * np.sqrt(self.t / self.T))\n",
    "        p = (np.exp(self.r / self.T)-d) / (u-d) \n",
    "        value = np.zeros((self.T+1,self.T+1))\n",
    "        value[0,0] = self.spot\n",
    "        for i in range(1,self.T+1):\n",
    "            value[i,0] = value[i-1,0]*u\n",
    "            for j in range(1,i+1):\n",
    "                value[i,j] = value[i-1,j-1]*d\n",
    "        option_value = np.zeros((self.T+1,self.T+1))\n",
    "        for j in range(self.T+1):\n",
    "            if self.call:\n",
    "                option_value[self.T, j] = max(0, value[self.T, j] - self.strike)\n",
    "            else:\n",
    "                option_value[self.T, j] = max(0, self.strike - value[self.T, j])\n",
    "        for i in range(self.T)[::-1]: \n",
    "            for j in range(i+1):\n",
    "                if self.call:\n",
    "                    option_value[i,j] = max(0, value[i,j] - self.strike, np.exp(-self.r*(self.t/self.T))*(p*option_value[i+1,j]+(1-p)*option_value[i+1,j+1]))\n",
    "                else:\n",
    "                    option_value[i,j] = max(0, self.strike - value[i,j], np.exp(-self.r*(self.t/self.T))*(p*option_value[i+1,j]+(1-p)*option_value[i+1,j+1]))\n",
    "        return option_value[0,0]"
   ]
  },
  {
   "cell_type": "code",
   "execution_count": 40,
   "metadata": {},
   "outputs": [],
   "source": [
    "class EuroPricing:\n",
    "    '''\n",
    "    Black-Scholes pricing for Europeans\n",
    "    '''\n",
    "    def __init__(self, typ: str, spot: float, strike: float, T: float, t: float, r: float, sigma: float):\n",
    "        self.call = True if typ == 'call' else False\n",
    "        self.spot = spot\n",
    "        self.strike = strike\n",
    "        self.T = T \n",
    "        self.t = t\n",
    "        self.r = r \n",
    "        self.sigma = sigma\n",
    "        self.gap = self.T - self.t\n",
    "        self.price = self.get_price()\n",
    "\n",
    "    def get_d1_d2(self):\n",
    "        temp = self.sigma * np.sqrt(self.gap)\n",
    "        d1 = (np.log(self.spot/self.strike) + (self.r + self.sigma**2/2.)*self.gap)/temp\n",
    "        d2 = d1 - temp\n",
    "        return d1, d2\n",
    "\n",
    "    def get_price(self):\n",
    "        d1, d2 = self.get_d1_d2()\n",
    "        if self.call:\n",
    "            return self.spot*norm.cdf(d1) - self.strike*np.exp(-self.r*self.gap)*norm.cdf(d2)\n",
    "        else:\n",
    "            return self.strike*np.exp(-self.r*self.gap)*norm.cdf(-d2) - self.spot*norm.cdf(-d1)\n"
   ]
  },
  {
   "cell_type": "code",
   "execution_count": 41,
   "metadata": {},
   "outputs": [
    {
     "name": "stdout",
     "output_type": "stream",
     "text": [
      "4.736427908210924\n",
      "4.660152144720065\n"
     ]
    }
   ],
   "source": [
    "# Validate the binary tree algorithm against Black-Scholes formula for Europeans\n",
    "optionBT = BinaryTreeAmerican(typ=\"call\", spot=100.0, strike=120.0, T=3, t=1.7, r=0.05, sigma=0.2)\n",
    "print(optionBT.get_value())\n",
    "optionBS = EuroPricing(typ=\"call\", spot=100.0, strike=120.0, T=3, t=1.7, r=0.05, sigma=0.2)\n",
    "print(optionBS.get_price())"
   ]
  },
  {
   "cell_type": "code",
   "execution_count": 46,
   "metadata": {},
   "outputs": [],
   "source": [
    "class GridAmerican(EuroPricing):\n",
    "    '''\n",
    "    Grid_based numerical algorithm for American Option Pricing \n",
    "    '''\n",
    "    def __init__(self, typ: str, spot: float, strike: float, T: float, t: float, r: float, sigma: float,\n",
    "                num_dt: int, num_dx: int):\n",
    "        super().__init__(typ, spot, strike, T, t, r, sigma)\n",
    "        self.payoff = lambda x: (1.0 if self.call else -1.) * (x - self.strike)\n",
    "        self.ir = lambda tt: self.r * tt  # interest rate with time\n",
    "        self.isig = lambda tt: (self.sigma ** 2) * tt # volatility with time\n",
    "        m, v = self.get_price_mean_var(self.spot, 0., self.T)\n",
    "        self.get_price = self.get_price_grid(num_dt, num_dx, m, np.sqrt(v)*4)\n",
    "        \n",
    "    def get_price_mean_var(self, x: float, t: float, dt: float):\n",
    "        # get the mean and variance of future price given the current price \n",
    "        ir_t = self.ir(t)\n",
    "        ir_t1 = self.ir(t + dt)\n",
    "        isig_t = self.isig(t)\n",
    "        isig_t1 = self.isig(t + dt)\n",
    "        ir_diff = ir_t1 - ir_t\n",
    "        isig_diff = isig_t1 - isig_t\n",
    "        mean = np.log(x) + ir_diff - isig_diff / 2.\n",
    "        var = isig_diff\n",
    "        return mean, var\n",
    "\n",
    "    def get_price_grid(self, num_dt: int, num_dx: int, center: float, width: float):\n",
    "        dt = self.T / num_dt\n",
    "        x_pts = 2 * num_dx + 1\n",
    "        lsp = np.linspace(center - width, center + width, x_pts)\n",
    "        prices = np.exp(lsp) \n",
    "        res = np.empty([num_dt, x_pts])\n",
    "        res[-1, :] = [max(self.payoff(p), 0.) for p in prices]\n",
    "        sample_points = 201\n",
    "        for i in range(num_dt - 2, -1, -1):\n",
    "            t = (i + 1) * dt\n",
    "            knots, coeffs, order = splrep(prices, res[i + 1, :], k=3)\n",
    "            spline_func = BSpline(knots, coeffs, order)\n",
    "            disc = np.exp(self.ir(t) - self.ir(t + dt))\n",
    "            for j in range(x_pts):\n",
    "                m, v = self.get_price_mean_var(prices[j], t, dt)\n",
    "                stdev = np.sqrt(v)\n",
    "                norm_dist = norm(loc=m, scale=stdev)\n",
    "\n",
    "                def integr_func(x: float, spline_func=spline_func,norm_dist=norm_dist) -> float:\n",
    "                    val = np.exp(x)\n",
    "                    return max(spline_func(val), 0.) * norm_dist.pdf(x)\n",
    "\n",
    "                low, high = (m - 4 * stdev, m + 4 * stdev)\n",
    "                disc_exp_payoff = disc * trapz(\n",
    "                    np.vectorize(integr_func)(np.linspace(low, high, sample_points)),\n",
    "                    dx=(high - low) / (sample_points - 1)\n",
    "                ) / (norm_dist.cdf(high) - norm_dist.cdf(low))\n",
    "                res[i, j] = max(self.payoff(prices[j]), disc_exp_payoff)\n",
    "\n",
    "        knots, coeffs, order = splrep(prices, res[0, :], k=3)\n",
    "        spline_func = BSpline(knots, coeffs, order)\n",
    "        disc = np.exp(-self.ir(dt))\n",
    "        m, v = self.get_price_mean_var(self.spot, 0., dt)\n",
    "        stdev = np.sqrt(v)\n",
    "        norm_dist = norm(loc=m, scale=stdev)\n",
    "\n",
    "        def integr_func0(x: float, spline_func=spline_func, norm_dist=norm_dist) -> float:\n",
    "            val = np.exp(x) \n",
    "            return max(spline_func(val), 0.) * norm_dist.pdf(x)\n",
    "\n",
    "        low, high = (m - 4 * stdev, m + 4 * stdev)\n",
    "        disc_exp_payoff = disc * trapz(\n",
    "            np.vectorize(integr_func0)(np.linspace(low, high, sample_points)),\n",
    "            dx=(high - low) / (sample_points - 1)\n",
    "        ) / (norm_dist.cdf(high) - norm_dist.cdf(low))\n",
    "        return max(self.payoff(self.spot), disc_exp_payoff)\n",
    "\n"
   ]
  },
  {
   "cell_type": "code",
   "execution_count": 54,
   "metadata": {},
   "outputs": [
    {
     "name": "stdout",
     "output_type": "stream",
     "text": [
      "12.385804371107985\n",
      "10.194150042249355\n"
     ]
    }
   ],
   "source": [
    "# Validate the grid_based algorithm against Black-Scholes formula for Europeans\n",
    "optionGrid = GridAmerican(typ=\"call\", spot=100.0, strike=120.0, T=3, t=0.5, r=0.05, sigma=0.2, num_dt=3, num_dx=100)\n",
    "print(optionGrid.get_price)\n",
    "optionBS = EuroPricing(typ=\"call\", spot=100.0, strike=120.0, T=3, t=0.5, r=0.05, sigma=0.2)\n",
    "print(optionBS.get_price())"
   ]
  },
  {
   "cell_type": "markdown",
   "metadata": {},
   "source": [
    "### Implement Longstaff-Schwartz Algorithm and ensure it validates against binary tree/grid-based solution for path-independent options"
   ]
  },
  {
   "cell_type": "code",
   "execution_count": 47,
   "metadata": {},
   "outputs": [],
   "source": [
    "class LS_American(EuroPricing):\n",
    "    '''\n",
    "    Longstaff-Schwartz Algorithm for American Option Pricing\n",
    "    '''\n",
    "    def __init__(self, typ: str, spot: float, strike: float, T: float, t: float, r: float, sigma: float, \n",
    "                 num_laguerre_val: int, num_paths: int, num_dt: int):\n",
    "        super().__init__(typ, spot, strike, T, t, r, sigma)\n",
    "        self.payoff = lambda x: self.vanilla_american_payoff(x)\n",
    "        self.ir = lambda tt: self.r * tt  # interest rate with time\n",
    "        self.isig = lambda tt: (self.sigma ** 2) * tt # volatility with time\n",
    "\n",
    "        self.feature_funcs = [lambda _, x: 1.] + [(lambda _, x, i=i: laguerre_feature_func(x[-1], i)) for i in\n",
    "                               range(num_laguerre_val)]\n",
    "        self.get_ls_price = self.get_lsprice(num_paths, num_dt)\n",
    "        \n",
    "    def vanilla_american_payoff(self, x: np.ndarray):\n",
    "        if self.call:\n",
    "            return max(x[-1] - self.strike, 0.)\n",
    "        else:\n",
    "            return max(self.strike - x[-1], 0.)\n",
    "        \n",
    "    def get_price_mean_var(self, x: float, t: float, dt: float):\n",
    "        # get the mean and variance of future price given the current price \n",
    "        ir_t = self.ir(t)\n",
    "        ir_t1 = self.ir(t + dt)\n",
    "        isig_t = self.isig(t)\n",
    "        isig_t1 = self.isig(t + dt)\n",
    "        ir_diff = ir_t1 - ir_t\n",
    "        isig_diff = isig_t1 - isig_t\n",
    "        mean = np.log(x) + ir_diff - isig_diff / 2.\n",
    "        var = isig_diff\n",
    "        return mean, var\n",
    "\n",
    "    def get_all_paths(self, num_paths: int, num_dt: int):\n",
    "        # randomly generate Monte-Carlo price paths \n",
    "        dt = self.T / num_dt\n",
    "        paths = np.empty([num_paths, num_dt + 1])\n",
    "        paths[:, 0] = self.spot\n",
    "        for i in range(num_paths):\n",
    "            price = self.spot\n",
    "            for t in range(num_dt):\n",
    "                m, v = self.get_price_mean_var(price, t, dt)\n",
    "                temp = np.random.normal(m, np.sqrt(v)) # from a normal distribution with future price mean and variance\n",
    "                price = np.exp(temp)\n",
    "                paths[i, t + 1] = price\n",
    "        return paths          \n",
    "\n",
    "    def get_lsprice(self, num_paths: int, num_dt: int):\n",
    "        # path independent Longstaff-Schwartz Algorithm\n",
    "        paths = self.get_all_paths(num_paths, num_dt)\n",
    "        cashflow = np.array([max(self.payoff(paths[i, :]), 0.) for i in range(num_paths)])\n",
    "        dt = self.T / num_dt\n",
    "        for t in range(num_dt - 1, 0, -1):\n",
    "            discount = np.exp(self.ir(t) - self.ir(t + dt))\n",
    "            cashflow *= discount\n",
    "            payoff = np.array([self.payoff(paths[i, :(t + 1)]) for i in range(num_paths)])\n",
    "            indices = [i for i in range(num_paths) if payoff[i] > 0]\n",
    "            if len(indices) > 0:\n",
    "                # collect features for each path where payoff is positive\n",
    "                x_vals = np.array([[f(t, paths[i, :(t + 1)]) for f in self.feature_funcs] for i in indices])\n",
    "                y_vals = np.array([cashflow[i] for i in indices])\n",
    "                # linear regression Y ~ X\n",
    "                estimate = x_vals.dot(np.linalg.lstsq(x_vals, y_vals, rcond=None)[0])\n",
    "                # compare the predicted value with the exercise price\n",
    "                for i, ind in enumerate(indices):\n",
    "                    if payoff[ind] > estimate[i]:\n",
    "                        cashflow[ind] = payoff[ind]\n",
    "        # return max(exercise, continue)\n",
    "        return max(self.payoff(np.array([self.spot])),np.average(cashflow * np.exp(-self.ir(dt))))\n",
    "\n"
   ]
  },
  {
   "cell_type": "code",
   "execution_count": 48,
   "metadata": {},
   "outputs": [
    {
     "name": "stderr",
     "output_type": "stream",
     "text": [
      "E:\\Anaconda\\lib\\site-packages\\ipykernel_launcher.py:17: RuntimeWarning: invalid value encountered in sqrt\n"
     ]
    },
    {
     "name": "stdout",
     "output_type": "stream",
     "text": [
      "Black-Scholes price 0.5663384123066049\n",
      "Longstaff-Schwartz price 0.577935217702427\n",
      "Grid based price 0.573837474097861\n"
     ]
    }
   ],
   "source": [
    "# validate Longstaff-Schwartz pricing against Black-Scholes formula and grid_based pricing\n",
    "\n",
    "strike_val = 80.0\n",
    "num_laguerre_val = 3\n",
    "\n",
    "def laguerre_feature_func(x: float,i: int) -> float:   \n",
    "    xp = x / strike_val\n",
    "    ident = np.eye(num_laguerre_val)\n",
    "    return np.exp(-xp / 2) * lagval(xp, ident[i])\n",
    "\n",
    "option = LS_American(typ=\"put\", spot=100.0, strike=80.0, T=0.5, t=0, r=0.05, sigma=0.25, \n",
    "                     num_laguerre_val=3, num_paths = 20000, num_dt = 10)\n",
    "optionGrid = GridAmerican(typ=\"put\", spot=100.0, strike=80.0, T=0.5, t=2, r=0.05, sigma=0.25, num_dt=10, num_dx=100)\n",
    "print(\"Black-Scholes price\", option.get_price())\n",
    "print(\"Longstaff-Schwartz price\", option.get_ls_price)\n",
    "print(\"Grid based price\", optionGrid.get_price)"
   ]
  },
  {
   "cell_type": "code",
   "execution_count": null,
   "metadata": {},
   "outputs": [],
   "source": []
  }
 ],
 "metadata": {
  "kernelspec": {
   "display_name": "Python 3",
   "language": "python",
   "name": "python3"
  },
  "language_info": {
   "codemirror_mode": {
    "name": "ipython",
    "version": 3
   },
   "file_extension": ".py",
   "mimetype": "text/x-python",
   "name": "python",
   "nbconvert_exporter": "python",
   "pygments_lexer": "ipython3",
   "version": "3.7.3"
  }
 },
 "nbformat": 4,
 "nbformat_minor": 2
}
