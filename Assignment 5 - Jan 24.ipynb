{
 "cells": [
  {
   "cell_type": "markdown",
   "metadata": {},
   "source": [
    "### Implement Black-Scholes pricing and greeks for European Call/Put Pricing to develop intuition for pricing/hedging formulas in complete markets"
   ]
  },
  {
   "cell_type": "code",
   "execution_count": 1,
   "metadata": {},
   "outputs": [],
   "source": [
    "from scipy.stats import norm\n",
    "import numpy as np\n",
    "from typing import Mapping, Tuple"
   ]
  },
  {
   "cell_type": "code",
   "execution_count": 5,
   "metadata": {},
   "outputs": [],
   "source": [
    "class EuroPricing:\n",
    "    def __init__(self, typ: str, spot: float, strike: float, T: float, r: float, sigma: float):\n",
    "        self.call = True if typ == 'call' else False\n",
    "        self.spot = spot\n",
    "        self.strike = strike\n",
    "        self.T = T # expiration\n",
    "        self.r = r # interest rate\n",
    "        self.sigma = sigma\n",
    "        self.price = self.get_price()\n",
    "        self.greeks = self.get_greeks()\n",
    "\n",
    "    def get_d1_d2(self):\n",
    "        temp = self.sigma * np.sqrt(self.T)\n",
    "        d1 = (np.log(self.spot/self.strike) + (self.r + self.sigma**2/2.)*self.T)/temp\n",
    "        d2 = d1 - temp\n",
    "        return d1, d2\n",
    "\n",
    "    def get_price(self):\n",
    "        d1, d2 = self.get_d1_d2()\n",
    "        if self.call:\n",
    "            return self.spot*norm.cdf(d1) - self.strike*np.exp(-self.r*self.T)*norm.cdf(d2)\n",
    "        else:\n",
    "            return self.strike*np.exp(-self.r*self.T)*norm.cdf(-d2) - self.spot*norm.cdf(-d1)\n",
    "\n",
    "    def get_greeks(self):\n",
    "        greeks = {}\n",
    "        d1, d2 = self.get_d1_d2()\n",
    "        temp = np.sqrt(self.T)\n",
    "\n",
    "        greeks['gamma'] = norm.pdf(d1)/(self.spot*self.sigma*temp)\n",
    "        vega = self.spot*temp*norm.pdf(d1)\n",
    "        temp3 = -self.strike*self.T * np.exp(-self.r*self.T)\n",
    "        temp1 = (self.spot*self.sigma*norm.pdf(d1))/(2*temp)\n",
    "        temp2 = self.r*self.strike*np.exp(-self.r*self.T)\n",
    "\n",
    "        if self.call:\n",
    "            greeks['delta'] = norm.cdf(d1)\n",
    "            greeks['theta'] = -temp1-temp2*norm.cdf(d2)\n",
    "            greeks['rho'] = temp3*norm.cdf(d2)\n",
    "        else:\n",
    "            greeks['delta'] = -norm.cdf(-d1)\n",
    "            greeks['theta'] = -temp1+temp2*norm.cdf(-d2)\n",
    "            greeks['rho'] = temp3*norm.cdf(-d2)\n",
    "\n",
    "        return greeks"
   ]
  },
  {
   "cell_type": "code",
   "execution_count": 6,
   "metadata": {},
   "outputs": [
    {
     "name": "stdout",
     "output_type": "stream",
     "text": [
      "The option price is  12.39453808999707\n",
      "The greeks are  {'gamma': 0.011479768903287241, 'delta': 0.5318419165318319, 'theta': -4.335436458816755, 'rho': -122.36896068955838}\n"
     ]
    }
   ],
   "source": [
    "example = EuroPricing(typ=\"call\", spot=100.0, strike=120.0, T=3.0, r=0.05, sigma=0.2)\n",
    "print(\"The option price is \", example.price)\n",
    "print(\"The greeks are \", example.greeks)"
   ]
  },
  {
   "cell_type": "code",
   "execution_count": null,
   "metadata": {},
   "outputs": [],
   "source": []
  }
 ],
 "metadata": {
  "kernelspec": {
   "display_name": "Python 3",
   "language": "python",
   "name": "python3"
  },
  "language_info": {
   "codemirror_mode": {
    "name": "ipython",
    "version": 3
   },
   "file_extension": ".py",
   "mimetype": "text/x-python",
   "name": "python",
   "nbconvert_exporter": "python",
   "pygments_lexer": "ipython3",
   "version": "3.7.3"
  }
 },
 "nbformat": 4,
 "nbformat_minor": 2
}
