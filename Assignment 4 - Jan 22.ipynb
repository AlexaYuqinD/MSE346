{
 "cells": [
  {
   "cell_type": "markdown",
   "metadata": {},
   "source": [
    "### Model Merton's Portfolio problem as an MDP (write the model in LaTeX)"
   ]
  },
  {
   "cell_type": "markdown",
   "metadata": {},
   "source": [
    "Continuous time\n",
    "\n",
    "The state is $(t, W_t)$\n",
    "\n",
    "The action is $[\\pi_t, c_t]$\n",
    "\n",
    "The reward per unit time is $U(c_t)$\n",
    "\n",
    "The return is the usual accumulated discounted reward\n",
    "\n",
    "Find policy: $(t, W_t) \\rightarrow [\\pi_t, c_t]$ that maximizes the Expected Return, where $c_t \\geq 0$.\n",
    "\n",
    "The optimal Optimal Discounted Value Function with discount factor $\\rho$\n",
    "\n",
    "$$ V^*(t, W_t) = \\max_{\\pi_t, c_t} E[\\int_t^T \\frac{e^{-\\rho s} c_s^{1-\\gamma}}{1-\\gamma}ds + \\frac{e^{-\\rho T} \\epsilon^T {W_T}^{1-\\gamma}}{1-\\gamma}]$$\n",
    "\n",
    "In recursive formulation for $0 \\leq t < t_1 < T$:\n",
    "\n",
    "$$ V^*(t, W_t) = \\max_{\\pi_t, c_t} E[ V^*(t_1, W_{t_1})+ \\int_t^{t_1} \\frac{e^{-\\rho s} c_s^{1-\\gamma}}{1-\\gamma}ds ] $$\n",
    "\n",
    "Rewriting in stochastic differential form, we have the HJB formulation\n",
    "\n",
    "$$ \\max_{\\pi_t, c_t} E[ dV^*(t_1, W_{t_1})+ \\frac{e^{-\\rho t} c_t^{1-\\gamma}}{1-\\gamma}dt] = 0$$\n",
    "\n",
    "Use Ito's Lemma, the problem can be simplified to\n",
    "\n",
    "$$  \\max_{\\pi_t, c_t} (t, W_t; \\pi_t, c_t) = 0 $$\n",
    "\n",
    "By solving the Optimal Discounted Value Function PDE, we have\n",
    "\n",
    "$$ \\pi^*(t, W_t) = \\frac{\\mu - r}{sigma^2 \\gamma}$$\n",
    "\n",
    "$$ c^*(t, W_t) = \\frac{W_t}{f(t)} = \\frac{vW_t}{1+(v\\epsilon-1)e^{-v(T-t)}} \\text{ for } v \\neq 0$$\n",
    "\n",
    "$$ c^*(t, W_t) = \\frac{W_t}{f(t)} = \\frac{W_t}{T-t+\\epsilon} \\text{ for } v = 0$$\n",
    "\n",
    "$$ V^*(t, W_t) = e^{-\\rho t} \\frac{(1+(v\\epsilon-1)e^{-v(T-t)})^{\\gamma}}{v^{\\gamma}} \\frac{W_t^{1-\\gamma}}{1-\\gamma} \\text{ for } v \\neq 0$$\n",
    "\n",
    "$$ V^*(t, W_t) = e^{-\\rho t} \\frac{(T-t+\\epsilon)^{\\gamma} W_t^{1-\\gamma}}{1-\\gamma} \\text{ for } v = 0$$"
   ]
  },
  {
   "cell_type": "code",
   "execution_count": null,
   "metadata": {},
   "outputs": [],
   "source": []
  }
 ],
 "metadata": {
  "kernelspec": {
   "display_name": "Python 3",
   "language": "python",
   "name": "python3"
  },
  "language_info": {
   "codemirror_mode": {
    "name": "ipython",
    "version": 3
   },
   "file_extension": ".py",
   "mimetype": "text/x-python",
   "name": "python",
   "nbconvert_exporter": "python",
   "pygments_lexer": "ipython3",
   "version": "3.7.3"
  }
 },
 "nbformat": 4,
 "nbformat_minor": 2
}
