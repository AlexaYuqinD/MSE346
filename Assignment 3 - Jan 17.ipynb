{
 "cells": [
  {
   "cell_type": "markdown",
   "metadata": {},
   "source": [
    "### Work out (in LaTeX) the equations for Absolute/Relative Risk Premia for CARA/CRRA respectively"
   ]
  },
  {
   "cell_type": "markdown",
   "metadata": {},
   "source": [
    "Taylor-expand ${U(x)}$ around ${\\bar{x}}$, ignoring the terms beyond quadratic \n",
    "\n",
    "$${U(x) \\approx U(\\bar{x}) + U'(\\bar{x})(x - \\bar{x}) + \\frac{1}{2}U''(\\bar{x})(x - \\bar{x})^2} \\tag{1}$$  \n",
    "\n",
    "Taylor-expand ${U(x_{CE})}$ around ${\\bar{x}}$, ignoring terms beyond linear \n",
    "\n",
    "$${U(x_{CE}) \\approx U(\\bar{x}) + U'(\\bar{x})(x_{CE} - \\bar{x})} \\tag{2}$$  \n",
    "\n",
    "Taking the expectation of the ${U(x)}$ expansion, we get: \n",
    "\n",
    "$${E[U(x)] \\approx U(\\bar{x}) + \\frac{1}{2}U''(\\bar{x})\\sigma_x^2} \\tag{3}$$ \n",
    "\n",
    "Since ${E[U(x)]} = U(x_{CE})$, (2) and (3) are approximately equal, so we have\n",
    "\n",
    "$${U'(\\bar{x})(x_{CE}-\\bar{x}) \\approx \\frac{1}{2}U''(\\bar{x})\\sigma_x^2}$$\n",
    "\n",
    "From (3), Absolute Risk Premium\n",
    "\n",
    "$$\\pi_{A} = (\\bar{x} - x_{CE}) \\approx -\\frac{1}{2}\\frac{U''(\\bar{x})}{U'(\\bar{x})}\\sigma_x^2 \\tag{4}$$\n",
    "\n",
    "We refer to $A(x) =-\\frac{U''({x})}{U'({x})} $ as the Absolute Risk Aversion,\n",
    "\n",
    "$$ \\pi_{A} \\approx \\frac{1}{2} A(\\bar{x}) \\sigma_x^2  \\tag{5}$$\n",
    "\n",
    "Relative Risk Premium\n",
    "\n",
    "$$\\pi_{R} = \\frac{\\pi_{A}}{\\bar{x}} \\approx -\\frac{1}{2}\\frac{U''(\\bar{x}) x}{U'(\\bar{x})}\\sigma_{\\frac{x}{\\bar{x}}}^2 \\tag{6}$$\n",
    "\n",
    "We refer to $R(x) =-\\frac{U''({x})x}{U'({x})} $ as the Relative Risk Aversion,\n",
    "\n",
    "$$ \\pi_{R} \\approx \\frac{1}{2} R(\\bar{x}) \\sigma_{\\frac{x}{\\bar{x}}}^2  \\tag{7}$$\n",
    "\n",
    "##### For Constant Absolute Risk-Aversion (CARA):\n",
    "\n",
    "The utility function is $U(x) = \\frac{-e^{-ax}}{a}$ for $a\\neq 0$, where $a$ is Absolute Risk Aversion.\n",
    "\n",
    "Using (5), we have Absolute Risk Premium $ \\approx \\frac{a \\sigma^2}{2}.  $\n",
    "\n",
    "\n",
    "##### For Constant Relative Risk-Aversion (CRRA):\n",
    "\n",
    "The utility function is $U(x) = \\frac{x^{1-\\gamma}}{1-\\gamma}$ for $\\gamma \\neq 1$, where $\\gamma$ is Relative Risk Aversion.\n",
    "\n",
    "Using (7), we have Relative Risk Premium $ \\approx \\frac{1}{2} \\gamma \\sigma_{\\frac{x}{\\bar{x}}}^2 = 1-e^{-\\frac{\\sigma^2 \\gamma}{2}}.  $"
   ]
  },
  {
   "cell_type": "markdown",
   "metadata": {},
   "source": [
    "### Write the solutions to Portfolio Applications covered in class with precise notation (in LaTeX)"
   ]
  },
  {
   "cell_type": "markdown",
   "metadata": {},
   "source": [
    "##### A Portfolio Application of CARA\n",
    "\n",
    "We are given 1 dollar to invest and hold for a horizon of 1 year. Investment choices are 1 risky asset and 1 riskless asset. Risky Asset Annual Return $\\sim N(\\mu, \\sigma^2)$ and Riskless Asset Annual Return $= r$. \n",
    "\n",
    "We determine unconstrained $\\pi$ to allocate to risky asset and $1-\\pi$ to riskless. \n",
    "\n",
    "Such that Portfolio has maximum Utility of Wealth in 1 year with CARA Utility\n",
    "$$ U(W) = \\frac{-e^{-aW}}{a} \\text{ for } a \\neq 0$$\n",
    "Portfolio Wealth $\\sim N(1+r+\\pi(\\mu-r), \\pi^2\\sigma^2)$. From CARA Utility, we need to maximize:\n",
    "$$ 1+r+\\pi(\\mu-r) - \\frac{a\\pi^2 \\sigma^2}{2}$$\n",
    "So optimal investment fraction in risky asset is\n",
    "$$ \\pi^* = \\frac{u-r}{a\\sigma^2}$$\n"
   ]
  },
  {
   "cell_type": "markdown",
   "metadata": {},
   "source": [
    "##### A Portfolio Application of CRRA\n",
    "\n",
    "We only consider the single-period (static) problem with 1 risky asset.\n",
    "\n",
    "Riskless asset: $dR_t = r R_t dt$\n",
    "\n",
    "Risky asset: $ dS_t = \\mu S_t dt+ \\sigma S_t dz_t$\n",
    "\n",
    "We are given 1 dollar to invest, with continuous rebalancing for 1 year. Determine constant fraction $\\pi$ of $W_t$ to allocate to risky asset. To maximize Expected Utility of Wealth $W = W_1$ (at time $t$ = 1). The constraint is that portfolio is continuously rebalanced to maintain fraction $\\pi$. So, the process for wealth $W_t$ is given by:\n",
    "\n",
    "$$dW_t = (r+ \\pi(\\mu -r))W_t dt + \\pi \\sigma W_t dz_t $$\n",
    "\n",
    "Assume CRRA Utility $U(W) = \\frac{W^{1-\\gamma}}{1-\\gamma}$, where $0<\\gamma\\neq 1$.\n",
    "\n",
    "Applying Ito's Lemma on $\\log W_t$:\n",
    "\n",
    "$$ \\log W \\sim N(r+\\pi(\\mu-r)-\\frac{\\pi^2\\sigma^2}{2}, \\pi^2\\sigma^2)$$\n",
    "\n",
    "From CRRA Utility, we need to maximize:\n",
    "\n",
    "$$ r+ \\pi(\\mu -r)) -\\frac{\\pi^2\\sigma^2}{2} + \\frac{\\pi^2\\sigma^2(1-\\gamma)}{2}  =  r+ \\pi(\\mu -r)) - \\frac{\\pi^2\\sigma^2\\gamma}{2}   $$\n",
    "\n",
    "So optimal investment fraction in risky asset is\n",
    "\n",
    "$$\\pi^*= \\frac{\\mu-r}{\\gamma \\sigma^2}$$"
   ]
  },
  {
   "cell_type": "code",
   "execution_count": null,
   "metadata": {},
   "outputs": [],
   "source": []
  }
 ],
 "metadata": {
  "kernelspec": {
   "display_name": "Python 3",
   "language": "python",
   "name": "python3"
  },
  "language_info": {
   "codemirror_mode": {
    "name": "ipython",
    "version": 3
   },
   "file_extension": ".py",
   "mimetype": "text/x-python",
   "name": "python",
   "nbconvert_exporter": "python",
   "pygments_lexer": "ipython3",
   "version": "3.7.3"
  }
 },
 "nbformat": 4,
 "nbformat_minor": 2
}
